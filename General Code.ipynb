{
 "cells": [
  {
   "cell_type": "markdown",
   "id": "1ea63687",
   "metadata": {},
   "source": [
    "GENERAL CODE FOR ABS ASSESMENT: LUIS, WILL, SHARIF, PHIL"
   ]
  },
  {
   "cell_type": "code",
   "execution_count": 1,
   "id": "d53eea8d",
   "metadata": {},
   "outputs": [],
   "source": [
    "import pandas as pd\n",
    "import requests\n",
    "import matplotlib.pyplot as plt\n",
    "import seaborn as sns\n",
    "\n",
    "def get_file(url):\n",
    "    result = requests.get(url).json()\n",
    "    final = pd.DataFrame(result)\n",
    "    return final\n",
    "\n",
    "#SETTING API SOURCES\n",
    "c_summary = get_file(\"https://api.census.gov/data/2018/abscs?get=NAME,GEO_ID,NAICS2017_LABEL,EMP,PAYANN,RCPPDEMP,YIBSZFI,YIBSZFI_LABEL,SEX,SEX_LABEL,ETH_GROUP,ETH_GROUP_LABEL,RACE_GROUP,RACE_GROUP_LABEL,VET_GROUP,VET_GROUP_LABEL,FIRMPDEMP&for=state:*&NAICS2017=00&key=a35b0cab138563036a49e8b976188a8c0e170e25\")\n",
    "char_business = get_file(\"https://api.census.gov/data/2018/abscb?get=NAME,GEO_ID,NAICS2017_LABEL,EMP,PAYANN,RCPPDEMP,SEX,SEX_LABEL,ETH_GROUP,ETH_GROUP_LABEL,RACE_GROUP,RACE_GROUP_LABEL,VET_GROUP,VET_GROUP_LABEL,FIRMPDEMP&for=state:*&NAICS2017=00&BUSCHAR=A1&QDESC=B01&key=a35b0cab138563036a49e8b976188a8c0e170e25\")\n",
    "char_business_owners = get_file(\"https://api.census.gov/data/2018/abscbo?get=NAME,GEO_ID,NAICS2017_LABEL,OWNER_SEX,OWNER_SEX_LABEL,OWNER_ETH,OWNER_ETH_LABEL,OWNER_RACE,OWNER_RACE_LABEL,OWNER_VET,OWNER_VET_LABEL,OWNPDEMP&for=state:*&OWNCHAR=CG&NAICS2017=00&QDESC=O02&key=a35b0cab138563036a49e8b976188a8c0e170e25\")\n",
    "tech_char = get_file(\"https://api.census.gov/data/2018/abstcb?get=NAME,GEO_ID,NAICS2017_LABEL,EMP,FACTORS_P,IMPACTWF_P_LABEL,IMPACTWF_U_LABEL,FACTORS_U,PAYANN,MOTUSETECH,MOTUSETECH_LABEL,SEX,SEX_LABEL,ETH_GROUP,ETH_GROUP_LABEL,RACE_GROUP,RACE_GROUP_LABEL,VET_GROUP,VET_GROUP_LABEL,TECHUSE,TECHUSE_LABEL,FIRMPDEMP&for=state:*&NAICS2017=00&key=a35b0cab138563036a49e8b976188a8c0e170e25\")\n",
    "\n",
    "#REPLACING COLUMNS WITH 1ST ROW NAMES\n",
    "c_summary.columns = c_summary.iloc[0]\n",
    "char_business.columns = char_business.iloc[0]\n",
    "char_business_owners.columns = char_business_owners.iloc[0]\n",
    "tech_char.columns = tech_char.iloc[0]\n",
    "\n",
    "#REMOVING UNESSECARY ROW AFTER RENAMING COLUMNS\n",
    "c_summary = c_summary.drop(c_summary.index[0])\n",
    "char_business = char_business.drop(char_business.index[0])\n",
    "char_business_owners = char_business_owners.drop(char_business_owners.index[0])\n",
    "tech_char = tech_char.drop(tech_char.index[0])"
   ]
  },
  {
   "cell_type": "markdown",
   "id": "fd433831",
   "metadata": {},
   "source": [
    " "
   ]
  },
  {
   "cell_type": "markdown",
   "id": "59119f8d",
   "metadata": {},
   "source": [
    "BELOW IS INDIVIDUAL CODE MEMBER'S SECTIONS THAT FOLLOWS THE GENERAL CODE PROVIDED ABOVE"
   ]
  },
  {
   "cell_type": "markdown",
   "id": "ba6b984e",
   "metadata": {},
   "source": [
    "PLEASE ADD YOUR PART OF CODE IN A SEPERATE CELL. PLEASE BE MINDFUL AND DO NOT DEMAGE OTHER MEMBER'S CODE. "
   ]
  },
  {
   "cell_type": "markdown",
   "id": "4cedaa71",
   "metadata": {},
   "source": [
    " "
   ]
  },
  {
   "cell_type": "markdown",
   "id": "f34ea335",
   "metadata": {},
   "source": [
    "LUIS:"
   ]
  },
  {
   "cell_type": "code",
   "execution_count": null,
   "id": "59a9fb64",
   "metadata": {},
   "outputs": [],
   "source": []
  },
  {
   "cell_type": "code",
   "execution_count": null,
   "id": "808b618b",
   "metadata": {},
   "outputs": [],
   "source": []
  },
  {
   "cell_type": "markdown",
   "id": "e9d8e3d6",
   "metadata": {},
   "source": [
    "WILL:"
   ]
  },
  {
   "cell_type": "code",
   "execution_count": null,
   "id": "0728aca8",
   "metadata": {},
   "outputs": [],
   "source": []
  },
  {
   "cell_type": "code",
   "execution_count": null,
   "id": "3ad73028",
   "metadata": {},
   "outputs": [],
   "source": []
  },
  {
   "cell_type": "markdown",
   "id": "86962336",
   "metadata": {},
   "source": [
    "PHIL:"
   ]
  },
  {
   "cell_type": "code",
   "execution_count": null,
   "id": "74c6a761",
   "metadata": {},
   "outputs": [],
   "source": []
  },
  {
   "cell_type": "code",
   "execution_count": null,
   "id": "365529e2",
   "metadata": {},
   "outputs": [],
   "source": []
  },
  {
   "cell_type": "markdown",
   "id": "01647cfa",
   "metadata": {},
   "source": [
    "SHARIF:"
   ]
  },
  {
   "cell_type": "code",
   "execution_count": null,
   "id": "d512530d",
   "metadata": {},
   "outputs": [],
   "source": []
  },
  {
   "cell_type": "code",
   "execution_count": null,
   "id": "aedd3553",
   "metadata": {},
   "outputs": [],
   "source": []
  }
 ],
 "metadata": {
  "kernelspec": {
   "display_name": "Python 3 (ipykernel)",
   "language": "python",
   "name": "python3"
  },
  "language_info": {
   "codemirror_mode": {
    "name": "ipython",
    "version": 3
   },
   "file_extension": ".py",
   "mimetype": "text/x-python",
   "name": "python",
   "nbconvert_exporter": "python",
   "pygments_lexer": "ipython3",
   "version": "3.9.7"
  }
 },
 "nbformat": 4,
 "nbformat_minor": 5
}
