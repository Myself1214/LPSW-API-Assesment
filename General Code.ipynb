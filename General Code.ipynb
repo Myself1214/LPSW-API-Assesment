{
 "cells": [
  {
   "cell_type": "markdown",
   "id": "1ea63687",
   "metadata": {},
   "source": [
    "GENERAL CODE FOR ABS ASSESMENT: LUIS, WILL, SHARIF, PHIL"
   ]
  },
  {
   "cell_type": "code",
   "execution_count": 1,
   "id": "d53eea8d",
   "metadata": {},
   "outputs": [],
   "source": [
    "import pandas as pd\n",
    "import requests\n",
    "import matplotlib.pyplot as plt\n",
    "import seaborn as sns\n",
    "\n",
    "def get_file(url):\n",
    "    result = requests.get(url).json()\n",
    "    final = pd.DataFrame(result)\n",
    "    return final\n",
    "\n",
    "#SETTING API SOURCES\n",
    "c_summary = get_file(\"https://api.census.gov/data/2018/abscs?get=NAME,GEO_ID,NAICS2017_LABEL,EMP,PAYANN,RCPPDEMP,YIBSZFI,YIBSZFI_LABEL,SEX,SEX_LABEL,ETH_GROUP,ETH_GROUP_LABEL,RACE_GROUP,RACE_GROUP_LABEL,VET_GROUP,VET_GROUP_LABEL,FIRMPDEMP&for=state:*&NAICS2017=00&key=a35b0cab138563036a49e8b976188a8c0e170e25\")\n",
    "char_business = get_file(\"https://api.census.gov/data/2018/abscb?get=NAME,GEO_ID,NAICS2017_LABEL,EMP,PAYANN,RCPPDEMP,SEX,SEX_LABEL,ETH_GROUP,ETH_GROUP_LABEL,RACE_GROUP,RACE_GROUP_LABEL,VET_GROUP,VET_GROUP_LABEL,FIRMPDEMP&for=state:*&NAICS2017=00&BUSCHAR=A1&QDESC=B01&key=a35b0cab138563036a49e8b976188a8c0e170e25\")\n",
    "char_business_owners = get_file(\"https://api.census.gov/data/2018/abscbo?get=NAME,GEO_ID,NAICS2017_LABEL,OWNER_SEX,OWNER_SEX_LABEL,OWNER_ETH,OWNER_ETH_LABEL,OWNER_RACE,OWNER_RACE_LABEL,OWNER_VET,OWNER_VET_LABEL,OWNPDEMP&for=state:*&OWNCHAR=CG&NAICS2017=00&QDESC=O02&key=a35b0cab138563036a49e8b976188a8c0e170e25\")\n",
    "tech_char = get_file(\"https://api.census.gov/data/2018/abstcb?get=NAME,GEO_ID,NAICS2017_LABEL,EMP,FACTORS_P,IMPACTWF_P_LABEL,IMPACTWF_U_LABEL,FACTORS_U,PAYANN,MOTUSETECH,MOTUSETECH_LABEL,SEX,SEX_LABEL,ETH_GROUP,ETH_GROUP_LABEL,RACE_GROUP,RACE_GROUP_LABEL,VET_GROUP,VET_GROUP_LABEL,TECHUSE,TECHUSE_LABEL,FIRMPDEMP&for=state:*&NAICS2017=00&key=a35b0cab138563036a49e8b976188a8c0e170e25\")\n",
    "\n",
    "#REPLACING COLUMNS WITH 1ST ROW NAMES\n",
    "c_summary.columns = c_summary.iloc[0]\n",
    "char_business.columns = char_business.iloc[0]\n",
    "char_business_owners.columns = char_business_owners.iloc[0]\n",
    "tech_char.columns = tech_char.iloc[0]\n",
    "\n",
    "#REMOVING UNESSECARY ROW AFTER RENAMING COLUMNS\n",
    "c_summary = c_summary.drop(c_summary.index[0])\n",
    "char_business = char_business.drop(char_business.index[0])\n",
    "char_business_owners = char_business_owners.drop(char_business_owners.index[0])\n",
    "tech_char = tech_char.drop(tech_char.index[0])"
   ]
  },
  {
   "cell_type": "markdown",
   "id": "fd433831",
   "metadata": {},
   "source": [
    " "
   ]
  },
  {
   "cell_type": "markdown",
   "id": "59119f8d",
   "metadata": {},
   "source": [
    "BELOW IS INDIVIDUAL CODE MEMBER'S SECTIONS THAT FOLLOWS THE GENERAL CODE PROVIDED ABOVE"
   ]
  },
  {
   "cell_type": "markdown",
   "id": "ba6b984e",
   "metadata": {},
   "source": [
    "PLEASE ADD YOUR PART OF CODE IN A SEPERATE CELL. PLEASE BE MINDFUL AND DO NOT DEMAGE OTHER MEMBER'S CODE. "
   ]
  },
  {
   "cell_type": "markdown",
   "id": "4cedaa71",
   "metadata": {},
   "source": [
    " "
   ]
  },
  {
   "cell_type": "markdown",
   "id": "f34ea335",
   "metadata": {},
   "source": [
    "LUIS:"
   ]
  },
  {
   "cell_type": "code",
   "execution_count": null,
   "id": "59a9fb64",
   "metadata": {},
   "outputs": [],
   "source": []
  },
  {
   "cell_type": "code",
   "execution_count": null,
   "id": "808b618b",
   "metadata": {},
   "outputs": [],
   "source": []
  },
  {
   "cell_type": "markdown",
   "id": "e9d8e3d6",
   "metadata": {},
   "source": [
    "WILL:"
   ]
  },
  {
   "cell_type": "markdown",
   "id": "8ac17c7f",
   "metadata": {},
   "source": [
    "1. Some Merge garbage"
   ]
  },
  {
   "cell_type": "code",
   "execution_count": null,
   "id": "0728aca8",
   "metadata": {},
   "outputs": [],
   "source": [
    "# create merge points based on data fields likely to indicate singular business\n",
    "c_summary[\"merge_tag_1\"] = c_summary[\"GEO_ID\"]+c_summary[\"ETH_GROUP\"]+c_summary[\"SEX\"]+c_summary[\"RACE_GROUP\"]+c_summary[\"VET_GROUP\"]\n",
    "c_summary['merge_tag_2'] = c_summary[\"merge_tag_1\"]+c_summary[\"EMP\"]+c_summary[\"FIRMPDEMP\"]+c_summary[\"PAYANN\"]\n",
    "char_business_owners[\"merge_tag_1\"] = char_business_owners[\"GEO_ID\"]+char_business_owners[\"OWNER_ETH\"]+char_business_owners[\"OWNER_SEX\"]+char_business_owners[\"OWNER_RACE\"]+char_business_owners[\"OWNER_VET\"]\n",
    "char_business[\"merge_tag_2\"] = char_business[\"GEO_ID\"]+char_business[\"ETH_GROUP\"]+char_business[\"SEX\"]+char_business[\"RACE_GROUP\"]+char_business[\"VET_GROUP\"]+char_business[\"EMP\"]+char_business[\"FIRMPDEMP\"]+char_business[\"PAYANN\"]\n",
    "tech_char[\"merge_tag_2\"] = tech_char[\"GEO_ID\"]+tech_char[\"ETH_GROUP\"]+tech_char[\"SEX\"]+tech_char[\"RACE_GROUP\"]+tech_char[\"VET_GROUP\"]+tech_char[\"EMP\"]+tech_char[\"FIRMPDEMP\"]+tech_char[\"PAYANN\"]\n",
    "\n",
    "# clean data to be merged of columns with same names to only keep one copy in final DataFrame\n",
    "cbo_cleaned=char_business_owners.drop([\"NAME\",\"state\",\"GEO_ID\",\"OWNER_ETH\",\"OWNER_SEX\",\"OWNER_RACE\",\"OWNER_VET\",\"NAICS2017_LABEL\",\"OWNER_SEX_LABEL\",\"OWNER_RACE_LABEL\",\"OWNER_ETH_LABEL\",\"OWNER_VET_LABEL\",\"NAICS2017\"],axis=1)\n",
    "cbo_cleaned=cbo_cleaned.rename(columns={\"QDESC\":\"QDESC_owner\"})\n",
    "cb_cleaned=char_business.drop([\"NAME\",\"state\",\"GEO_ID\",\"ETH_GROUP\",\"SEX\",\"RACE_GROUP\",\"VET_GROUP\",\"EMP\",\"FIRMPDEMP\",\"PAYANN\",\"NAICS2017_LABEL\",\"RCPPDEMP\",\"SEX_LABEL\",\"RACE_GROUP_LABEL\",\"ETH_GROUP_LABEL\",\"VET_GROUP_LABEL\",\"NAICS2017\"],axis=1)\n",
    "cb_cleaned=cb_cleaned.rename(columns={\"QDESC\":\"QDESC_business\"})\n",
    "tcb_cleaned=tech_char.rename(columns={\"NAME\":\"NAME_Tech\",\"state\":\"state_Tech\",\"GEO_ID\":\"GEO_ID_Tech\",\"ETH_GROUP\":\"ETH_GROUP_Tech\",\"SEX\":\"SEX_Tech\",\"RACE_GROUP\":\"RACE_GROUP_Tech\",\"VET_GROUP\":\"VET_GROUP_Tech\",\"EMP\":\"EMP_Tech\",\"FIRMPDEMP\":\"FIRMPDEMP_Tech\",\"PAYANN\":\"PAYANN_Tech\",\"NAICS2017_LABEL\":\"NAICS2017_Tech\",\"SEX_LABEL\":\"SEX_LABEL_Tech\",\"RACE_GROUP_LABEL\":\"RACE_GROUP_LABEL_Tech\",\"ETH_GROUP_LABEL\":\"ETH_GROUP_LABEL_Tech\",\"VET_GROUP_LABEL\":\"VET_GROUP_LABEL_Tech\",\"NAICS2017\":\"NAICS2017_Tech\"})\n",
    "\n",
    "# merge the various DataFrames together one at a time using outer merge to keep all data\n",
    "cs_cb_merge=c_summary.merge(cb_cleaned,how='outer',on='merge_tag_2')\n",
    "cs_cb_tcb_merge=cs_cb_merge.merge(tcb_cleaned,how='outer',on='merge_tag_2')\n",
    "cs_cb_cbo_tcb_merge=cs_cb_tcb_merge.merge(cbo_cleaned,how=\"outer\",on=\"merge_tag_1\")\n",
    "\n",
    "# remove the created merge points as they have served their purpose\n",
    "cs_cb_cbo_tcb_merge.drop([\"merge_tag_1\"],axis=1,inplace=True)"
   ]
  },
  {
   "cell_type": "markdown",
   "id": "e53ab31a",
   "metadata": {},
   "source": [
    "2. I wanted to look at the impact of Owner Sex on employee compensation, and had liked using the RCPPDEMP data, but that column is 0 at state level so I needed to get us data and merge it, as follows:"
   ]
  },
  {
   "cell_type": "code",
   "execution_count": null,
   "id": "3ad73028",
   "metadata": {},
   "outputs": [],
   "source": [
    "# get national data by same process as general code\n",
    "c_summary_US = get_file(\"https://api.census.gov/data/2018/abscs?get=GEO_ID,NAME,NAICS2017,NAICS2017_LABEL,SEX,SEX_LABEL,ETH_GROUP,ETH_GROUP_LABEL,RACE_GROUP,RACE_GROUP_LABEL,VET_GROUP,VET_GROUP_LABEL,EMPSZFI,EMPSZFI_LABEL,YEAR,FIRMPDEMP,FIRMPDEMP_F,RCPPDEMP,RCPPDEMP_F,EMP,EMP_F,PAYANN,PAYANN_F,FIRMPDEMP_S,FIRMPDEMP_S_F,RCPPDEMP_S,RCPPDEMP_S_F,EMP_S,EMP_S_F,PAYANN_S,PAYANN_S_F&for=us:*&key=4bd66954c86bd0a6ba524b9766beb04e32b367f6\")\n",
    "c_summary_US.columns = c_summary_US.iloc[0]\n",
    "c_summary_US = c_summary_US.drop(c_summary_US.index[0])\n",
    "\n",
    "# create merge point as in the garbage section\n",
    "c_summary_US['merge_tag_2']=c_summary_US[\"GEO_ID\"]+c_summary_US[\"ETH_GROUP\"]+c_summary_US[\"SEX\"]+c_summary_US[\"RACE_GROUP\"]+c_summary_US[\"VET_GROUP\"]+c_summary_US[\"EMP\"]+c_summary_US[\"FIRMPDEMP\"]+c_summary_US[\"PAYANN\"]\n",
    "\n",
    "# restrict to desired columns\n",
    "us_EMP_PAY_RCP_SEX=c_summary_US[['EMP','PAYANN','RCPPDEMP','SEX_LABEL','merge_tag_2']]\n",
    "us_EMP_PAY_RCP_SEX=us_EMP_PAY_RCP_SEX.rename(columns={'EMP':'EMP_US','PAYANN':'PAYANN_US','RCPPDEMP':'RCPPDEMP_US','SEX_LABEL':'SEX_LABEL_US'})\n",
    "\n",
    "# merge new data with old (no overlaps as state and national don't mesh)\n",
    "us_merge=cs_cb_cbo_tcb_merge.merge(us_EMP_PAY_RCP_SEX,how=\"outer\",on=\"merge_tag_2\")\n"
   ]
  },
  {
   "cell_type": "markdown",
   "id": "8ede2a99",
   "metadata": {},
   "source": [
    "3. Clean up the data removing unnecessary items and zeros"
   ]
  },
  {
   "cell_type": "code",
   "execution_count": null,
   "id": "51ba4cb4",
   "metadata": {},
   "outputs": [],
   "source": [
    "# turn columns from strings to numbers\n",
    "us_PAY=pd.to_numeric(us_merge.PAYANN_US)\n",
    "us_RCP=pd.to_numeric(us_merge.RCPPDEMP_US)\n",
    "us_EMP=pd.to_numeric(us_merge.EMP_US)\n",
    "state_PAY=pd.to_numeric(us_merge.PAYANN)\n",
    "us_merge['PAYANN_US']=us_PAY\n",
    "us_merge[\"RCPPDEMP_US\"]=us_RCP\n",
    "us_merge['EMP_US']=us_EMP\n",
    "us_merge['PAYANN']=state_PAY\n",
    "\n",
    "# remove unwanted items from SEX_LABELS(various editions due to the merges)\n",
    "cleaner_us_merge=us_merge[us_merge.SEX_LABEL_US!=\"Classifiable\"]\n",
    "cleaner_us_merge=cleaner_us_merge[cleaner_us_merge.SEX_LABEL_US!=\"Unclassifiable\"]\n",
    "cleaner_us_merge=cleaner_us_merge[cleaner_us_merge.SEX_LABEL_US!=\"Total\"]\n",
    "cleaner_us_merge=cleaner_us_merge[cleaner_us_merge.SEX_LABEL!=\"Classifiable\"]\n",
    "cleaner_us_merge=cleaner_us_merge[cleaner_us_merge.SEX_LABEL!=\"Unclassifiable\"]\n",
    "cleaner_us_merge=cleaner_us_merge[cleaner_us_merge.SEX_LABEL!=\"Total\"]\n",
    "\n",
    "# last cleaning and splitting data for visualizations\n",
    "only_us_merge=cleaner_us_merge[cleaner_us_merge.PAYANN_US>0]\n",
    "only_us_merge=only_us_merge[only_us_merge.RCPPDEMP_US>0]\n",
    "only_us_merge=only_us_merge[only_us_merge.EMP_US>0]\n",
    "us_merge_CS_PAY_GT0=cleaner_us_merge[cleaner_us_merge.PAYANN>0]\n",
    "more_cleaner_us_merge=only_us_merge[[\"EMP_US\",\"PAYANN_US\",\"RCPPDEMP_US\",\"SEX_LABEL_US\"]]"
   ]
  },
  {
   "cell_type": "markdown",
   "id": "bdf9f7cb",
   "metadata": {},
   "source": [
    "4. Visualizations Work"
   ]
  },
  {
   "cell_type": "markdown",
   "id": "856b7726",
   "metadata": {},
   "source": [
    "4. a) boxplot"
   ]
  },
  {
   "cell_type": "code",
   "execution_count": null,
   "id": "01a5c87e",
   "metadata": {},
   "outputs": [],
   "source": [
    "axbxp=more_cleaner_us_merge.boxplot(column='PAYANN_US',by='SEX_LABEL_US')\n",
    "plt.rcParams[\"figure.figsize\"] = (8,4)\n",
    "fig1=axbxp.get_figure()\n",
    "fig1.suptitle(\"\")\n",
    "plt.xlabel('SEX_LABEL')\n",
    "plt.ylabel('Payroll in Thousands')\n",
    "plt.ylim([0,500_000_000])     #y limit\n",
    "plt.title('Payroll by \"SEX_LABEL\"')\n",
    "plt.ticklabel_format(style='plain', axis='y')"
   ]
  },
  {
   "cell_type": "markdown",
   "id": "e6f4fa8e",
   "metadata": {},
   "source": [
    "4. b) two bar graphs of median PAYANN by SEX_LABEL, one from state data and another from the us data I imported"
   ]
  },
  {
   "cell_type": "code",
   "execution_count": null,
   "id": "dba12df3",
   "metadata": {},
   "outputs": [],
   "source": [
    "# US data bar graph\n",
    "us_stats=more_cleaner_us_merge.groupby('SEX_LABEL_US')['PAYANN_US'].describe()\n",
    "us_stats=us_stats.rename(columns={\"50%\":\"Median\"})\n",
    "us_stats_median=us_stats['Median']\n",
    "sns.set_theme(style=\"dark\", palette='pastel')\n",
    "axbar1 = us_stats_median.plot.bar()\n",
    "plt.legend(bbox_to_anchor=(1,0.15), loc=\"upper left\")\n",
    "axbar1.set_xlabel('Owner Sex')\n",
    "axbar1.set_ylabel('Payroll ($1,000)')\n",
    "plt.xticks(rotation=45)\n",
    "plt.ticklabel_format(style='plain', axis='y')\n",
    "\n",
    "# State data bar graph\n",
    "state_stats=us_merge_CS_PAY_GT0.groupby('SEX_LABEL')['PAYANN'].describe()\n",
    "state_stats=state_stats.rename(columns={\"50%\":\"Median\"})\n",
    "state_stats_median=state_stats['Median']\n",
    "sns.set_theme(style=\"dark\", palette='pastel')\n",
    "axbar2 = state_stats_median.plot.bar()\n",
    "plt.legend(bbox_to_anchor=(1,0.15), loc=\"upper left\")\n",
    "axbar2.set_xlabel('Owner Sex')\n",
    "axbar2.set_ylabel('Payroll ($1,000)')\n",
    "plt.xticks(rotation=45)\n",
    "plt.ticklabel_format(style='plain', axis='y')"
   ]
  },
  {
   "cell_type": "markdown",
   "id": "4896f8cf",
   "metadata": {},
   "source": [
    "4. c) two scatter plots comparing Sales vs Employees and Payroll vs Sales for the US data seriesed by SEX_LABEL"
   ]
  },
  {
   "cell_type": "code",
   "execution_count": null,
   "id": "4ed00fc8",
   "metadata": {},
   "outputs": [],
   "source": [
    "# code to split series\n",
    "us_Male=more_cleaner_us_merge[more_cleaner_us_merge[\"SEX_LABEL_US\"]==\"Male\"]\n",
    "us_Female=more_cleaner_us_merge[more_cleaner_us_merge[\"SEX_LABEL_US\"]==\"Female\"]\n",
    "us_Equal=more_cleaner_us_merge[more_cleaner_us_merge[\"SEX_LABEL_US\"]==\"Equally male/female\"]\n",
    "us_Male_PAY=us_Male['PAYANN_US']\n",
    "us_Male_RCP=us_Male['RCPPDEMP_US']\n",
    "us_Male_EMP=us_Male['EMP_US']\n",
    "us_Female_PAY=us_Female['PAYANN_US']\n",
    "us_Female_RCP=us_Female['RCPPDEMP_US']\n",
    "us_Female_EMP=us_Female['EMP_US']\n",
    "us_Equal_PAY=us_Equal['PAYANN_US']\n",
    "us_Equal_RCP=us_Equal['RCPPDEMP_US']\n",
    "us_Equal_EMP=us_Equal['EMP_US']\n",
    "\n",
    "# first scatter plot, Sales vs Employees\n",
    "sns.set_theme(style=\"darkgrid\", palette='pastel')\n",
    "plt.scatter(x=us_Female_EMP,y=us_Female_RCP,c='#838286',label='Female')\n",
    "plt.scatter(x=us_Male_EMP,y=us_Male_RCP,c='#ed1650',label='Male')\n",
    "plt.scatter(x=us_Equal_EMP,y=us_Equal_RCP,color='blue',label='Equally Male/Female')\n",
    "plt.title(\"Sales vs Employees\")\n",
    "plt.xlabel(\"Employees\")\n",
    "plt.xlim([0,10_000_000])\n",
    "plt.ylim([0,2_000_000_000])\n",
    "plt.ticklabel_format(style = \"plain\")\n",
    "plt.ylabel(\"Sales ($1,000)\")\n",
    "plt.legend(loc=2)\n",
    "#plt.rcParams[\"figure.figsize\"] = (6,4)\n",
    "plt.show()"
   ]
  },
  {
   "cell_type": "code",
   "execution_count": null,
   "id": "e4bc3fac",
   "metadata": {},
   "outputs": [],
   "source": [
    "#second scatter plot, Payroll vs Sales\n",
    "plt.scatter(x=us_Female_RCP,y=us_Female_PAY,c='#838286',label='Female')\n",
    "plt.scatter(x=us_Male_RCP,y=us_Male_PAY,c='#ed1650',label='Male')\n",
    "plt.scatter(x=us_Equal_RCP,y=us_Equal_PAY,color='blue',label='Equally Male/Female')\n",
    "plt.title(\"Payroll vs Sales\")\n",
    "plt.xlabel(\"Sales ($1,000)\")\n",
    "plt.ylim([0,500_000_000])\n",
    "plt.xlim([0,2_000_000_000])\n",
    "plt.ticklabel_format(style = \"plain\")\n",
    "plt.ylabel(\"Payroll ($1,000)\")\n",
    "plt.legend(loc=2)\n",
    "#plt.rcParams[\"figure.figsize\"] = (10,6)\n",
    "plt.show()"
   ]
  },
  {
   "cell_type": "markdown",
   "id": "86962336",
   "metadata": {},
   "source": [
    "PHIL:"
   ]
  },
  {
   "cell_type": "code",
   "execution_count": null,
   "id": "74c6a761",
   "metadata": {},
   "outputs": [],
   "source": []
  },
  {
   "cell_type": "code",
   "execution_count": null,
   "id": "365529e2",
   "metadata": {},
   "outputs": [],
   "source": []
  },
  {
   "cell_type": "markdown",
   "id": "01647cfa",
   "metadata": {},
   "source": [
    "SHARIF:"
   ]
  },
  {
   "cell_type": "code",
   "execution_count": null,
   "id": "d512530d",
   "metadata": {},
   "outputs": [],
   "source": []
  },
  {
   "cell_type": "code",
   "execution_count": null,
   "id": "aedd3553",
   "metadata": {},
   "outputs": [],
   "source": []
  }
 ],
 "metadata": {
  "kernelspec": {
   "display_name": "Python 3 (ipykernel)",
   "language": "python",
   "name": "python3"
  },
  "language_info": {
   "codemirror_mode": {
    "name": "ipython",
    "version": 3
   },
   "file_extension": ".py",
   "mimetype": "text/x-python",
   "name": "python",
   "nbconvert_exporter": "python",
   "pygments_lexer": "ipython3",
   "version": "3.9.7"
  }
 },
 "nbformat": 4,
 "nbformat_minor": 5
}
